{
 "cells": [
  {
   "cell_type": "markdown",
   "metadata": {},
   "source": [
    "## Joint Probability Example\n",
    "\n",
    "- This notebook demonstrates how to compute the probability of joint water level and precipitation extremes.\n",
    "- The analysis considers two cases:\n",
    "  - **`wl_prcond`**: Water level peaks-over-threshold events paired with the maximum precipitation event occurring within ±1 day.\n",
    "  - **`pr_wlcond`**: Precipitation peaks-over-threshold events paired with the maximum water level event occurring within ±1 day.\n",
    "- Univariate distributions are fitted to the marginals (water levels and precipitation) separately. Joint events are then analyzed using copulas, which are selected based on the Bayesian Information Criterion (BIC).\n",
    "- For methodology and limitations, see the technical report: **Braschi, L.C., & Leys, V. (2025).** *Extrêmes de niveaux d'eau côtiers et extrêmes conjoints de niveaux d'eau et de précipitations au Canada.* Rapport présenté à Ouranos. Montréal: CBCL Limited, 37 p.\n",
    "\n",
    "The data for this notebook is stored in the cloud, so the first step is to access it.\n"
   ]
  },
  {
   "cell_type": "markdown",
   "metadata": {},
   "source": [
    "### Imports and Paths"
   ]
  },
  {
   "cell_type": "code",
   "metadata": {
    "ExecuteTime": {
     "end_time": "2025-04-10T22:19:14.529685Z",
     "start_time": "2025-04-10T22:19:14.520106Z"
    }
   },
   "source": [
    "import pandas as pd\n",
    "from scipy.stats import kendalltau\n",
    "import xarray as xr\n",
    "from pathlib import Path\n",
    "import s3fs\n",
    "\n",
    "\n",
    "from portail_ing.frontend.wl_parameters import IndicatorObsWL, IndicatorSimWL\n",
    "from portail_ing.frontend.cbcl_utils import matching_events\n",
    "from portail_ing.frontend.jp_parameters import (\n",
    "    IndicatorObsWLCOND,\n",
    "    IndicatorObsPRPOT,\n",
    "    IndicatorObsPRCOND,\n",
    "    IndicatorSimPRPOT,\n",
    "    IndicatorSimWLCOND,\n",
    "    IndicatorSimPRPOT,\n",
    "    IndicatorSimPRCOND,\n",
    "    IndicatorObsJP,\n",
    "    IndicatorSimJP\n",
    ")\n",
    "\n",
    "copulas = [\"gaussian\", \"student\", \"clayton\", \"frank\", \"gumbel\"]\n",
    "scipy_dists = [\"norm\", \"t\", \"gamma\", 'genextreme']\n",
    "\n",
    "stn_num = '07330'\n",
    "ahccd_num = '1018620'\n",
    "\n",
    "s3r = s3fs.S3FileSystem(anon=True, use_ssl=False, client_kwargs={\"endpoint_url\": \"https://minio.ouranos.ca\"})\n",
    "\n",
    "def open_link(filename: str) -> str:\n",
    "    \"\"\"Read NetCDF object from MinIO server and return as a string.\"\"\"\n",
    "    root = \"portail-ing/tutorial_data\"\n",
    "    link = s3r.open(f\"{root}/{filename}\")\n",
    "    return link\n",
    "\n",
    "# Peaks-over-threshold (pot) data\n",
    "wl_pot_file = f\"{stn_num}_wl_pot.nc\"\n",
    "pr_pot_file = f\"{ahccd_num}_pr_pot.nc\"\n",
    "\n",
    "# Timeseries data (used to select conditional extremes)\n",
    "wl_timeseries_file = f\"{stn_num}_wl.nc\"\n",
    "pr_timeseries_file = f\"{ahccd_num}_pr.nc\"\n",
    "\n",
    "# Future simulations: decadal sea-level delta and daily precipitation timeseries\n",
    "sl_sim_file = f\"{stn_num}_sl.nc\"\n",
    "pr_sim_file = f\"{ahccd_num}_pr_sim.nc\""
   ],
   "outputs": [],
   "execution_count": 9
  },
  {
   "cell_type": "markdown",
   "metadata": {},
   "source": [
    "### Step 1 - User Settings"
   ]
  },
  {
   "cell_type": "code",
   "metadata": {
    "ExecuteTime": {
     "end_time": "2025-04-10T22:19:15.394425Z",
     "start_time": "2025-04-10T22:19:15.388608Z"
    }
   },
   "source": [
    "ref_period = (1995, 2014)\n",
    "fut_period = (2070, 2100)\n",
    "pval_thresh = 0.05 # p-value for the kendall dependence test\n",
    "pr_rp = 10 # Return period for precipitation\n",
    "wl_rp = 10 # Return period for water level"
   ],
   "outputs": [],
   "execution_count": 10
  },
  {
   "cell_type": "markdown",
   "metadata": {},
   "source": [
    "### Step 2 - Load Data"
   ]
  },
  {
   "cell_type": "code",
   "metadata": {
    "ExecuteTime": {
     "end_time": "2025-04-10T22:20:50.434334Z",
     "start_time": "2025-04-10T22:19:16.291954Z"
    }
   },
   "source": [
    "# Load peaks-over-threshold (pot) data\n",
    "wl_pot_backend = xr.open_dataarray(open_link(wl_pot_file))\n",
    "pr_pot_backend = xr.open_dataarray(open_link(pr_pot_file))\n",
    "\n",
    "# Load timeseries data\n",
    "wl = xr.open_dataarray(open_link(wl_timeseries_file))\n",
    "pr = xr.open_dataarray(open_link(pr_timeseries_file))\n",
    "\n",
    "# Load and format future simulation data\n",
    "sl_sim_backend = xr.open_dataset(open_link(sl_sim_file))['sl_delta']\n",
    "sim = xr.open_dataarray(open_link(pr_sim_file))\n",
    "multi_index = pd.MultiIndex.from_arrays(\n",
    "    [sim['variant_label'].values, sim['source_id'].values, sim['experiment_id'].values],\n",
    "    names=[\"variant_label\", \"source_id\", \"experiment_id\"]\n",
    ")\n",
    "pr_sim_backend = sim.assign_coords(realization=(\"realization\", multi_index))"
   ],
   "outputs": [],
   "execution_count": 11
  },
  {
   "cell_type": "markdown",
   "metadata": {},
   "source": [
    "### Step 3 - Conditional Events"
   ]
  },
  {
   "cell_type": "code",
   "metadata": {
    "ExecuteTime": {
     "end_time": "2025-04-11T13:28:33.557142Z",
     "start_time": "2025-04-11T13:28:31.931002Z"
    }
   },
   "source": [
    "# Select maximum precipitation events occuring within 1 day of water level peaks\n",
    "wl_pot_backend, pr_cond_backend = matching_events(pot_da=wl_pot_backend, timeseries_da=pr)\n",
    "\n",
    "# Select maximum water levels events occuring within 1 day of precpitation peaks\n",
    "pr_pot_backend, wl_cond_backend = matching_events(pot_da=pr_pot_backend, timeseries_da=wl)"
   ],
   "outputs": [],
   "execution_count": 12
  },
  {
   "cell_type": "markdown",
   "metadata": {},
   "source": [
    "### Step 4 - Dependence"
   ]
  },
  {
   "cell_type": "code",
   "metadata": {
    "ExecuteTime": {
     "end_time": "2025-04-11T13:28:35.539067Z",
     "start_time": "2025-04-11T13:28:35.518324Z"
    }
   },
   "source": [
    "# Assess statistical dependence with Kendall's Tau\n",
    "wl_prcond_ktau, wl_prcond_pval = kendalltau(wl_pot_backend.values, pr_cond_backend.values)\n",
    "pr_wlcond_ktau, pr_wlcond_pval = kendalltau(pr_pot_backend.values, wl_cond_backend.values)\n",
    "\n",
    "def sig_string(pval, pval_thresh):\n",
    "    if pval <= pval_thresh:\n",
    "        return 'SIGNIFICANT'\n",
    "    else:\n",
    "        return 'NOT SIGNIFICANT'\n",
    "\n",
    "print(f'Water level POT & conditional precipitation extremes: {sig_string(wl_prcond_pval, pval_thresh)}\\n'\n",
    "      f'p-value {round(wl_prcond_pval, 4)} and kendall tau {round(wl_prcond_ktau, 2)}')\n",
    "print(f'Precipitation POT & conditional water level extremes: {sig_string(pr_wlcond_pval, pval_thresh)}\\n'\n",
    "      f'p-value {round(pr_wlcond_pval, 4)} and kendall tau {round(pr_wlcond_ktau, 2)}')"
   ],
   "outputs": [
    {
     "name": "stdout",
     "output_type": "stream",
     "text": [
      "Water level POT & conditional precipitation extremes: SIGNIFICANT\n",
      "p-value 0.0 and kendall tau 0.18\n",
      "Precipitation POT & conditional water level extremes: SIGNIFICANT\n",
      "p-value 0.0 and kendall tau 0.15\n"
     ]
    }
   ],
   "execution_count": 13
  },
  {
   "cell_type": "markdown",
   "metadata": {},
   "source": [
    "### Step 5 - Joint analysis for wl_prcond"
   ]
  },
  {
   "cell_type": "code",
   "metadata": {
    "ExecuteTime": {
     "end_time": "2025-04-11T13:33:08.010435Z",
     "start_time": "2025-04-11T13:28:37.531612Z"
    }
   },
   "source": [
    "# Marginals for observations\n",
    "wl_pot = IndicatorObsWL(data=wl_pot_backend, period=ref_period)\n",
    "pr_cond = IndicatorObsPRCOND(data=pr_cond_backend, period=ref_period)\n",
    "\n",
    "# Marginals for simulations\n",
    "wl_sim = IndicatorSimWL(obs=wl_pot, data=sl_sim_backend, period=fut_period)\n",
    "pr_sim = IndicatorSimPRCOND(obs=pr_cond, data=pr_sim_backend, wl_pot=wl_pot_backend, period=fut_period)\n",
    "\n",
    "# Copula for observations\n",
    "jp_obs = IndicatorObsJP(obs_pot=wl_pot, obs_cond=pr_cond, name=\"wl_prcond\", period=ref_period)\n",
    "\n",
    "# Copula for simulations\n",
    "jp_sim = IndicatorSimJP(sim_pot=wl_sim, sim_cond=pr_sim, obs_cop=jp_obs, period=fut_period)\n",
    "\n",
    "# Example joint exceedance assessment for wl_prcond\n",
    "result_obs = round(jp_obs.sf([wl_pot.isf(1/wl_rp).item(), pr_cond.isf(1/pr_rp).item()]).item(),2)\n",
    "result_sim = round(jp_sim.sf([wl_pot.isf(1/wl_rp).item(), pr_cond.isf(1/pr_rp).item()]).item(),2)\n",
    "\n",
    "result_text = (f\"\"\"\n",
    "    The probability of precipitation exceeding a 1-in-{pr_rp} event and water levels exceeding a 1-in-{wl_rp} event\n",
    "    during the reference period {ref_period} is {round((1/pr_rp)*(1/wl_rp), 4)} under the assumption of independence\n",
    "    (0.1 x 0.1 = 0.01).\n",
    "\n",
    "    Under the present analysis, the estimated probability of joint exceedance is {result_obs} for the reference period\n",
    "    {ref_period} and {result_sim} for the future period {fut_period}.\n",
    "    \"\"\")\n",
    "print(result_text)"
   ],
   "outputs": [
    {
     "name": "stdout",
     "output_type": "stream",
     "text": [
      "\n",
      "    The probability of precipitation exceeding a 1-in-10 event and water levels exceeding a 1-in-10 event\n",
      "    during the reference period (1995, 2014) is 0.01 under the assumption of independence\n",
      "    (0.1 x 0.1 = 0.01).\n",
      "\n",
      "    Under the present analysis, the estimated probability of joint exceedance is 0.03 for the reference period\n",
      "    (1995, 2014) and 0.39 for the future period (2070, 2100).\n",
      "    \n"
     ]
    }
   ],
   "execution_count": 14
  },
  {
   "cell_type": "markdown",
   "metadata": {},
   "source": [
    "### Step 6 - Joint analysis for pr_wlcond"
   ]
  },
  {
   "cell_type": "code",
   "metadata": {
    "ExecuteTime": {
     "end_time": "2025-04-11T13:34:41.797429Z",
     "start_time": "2025-04-11T13:33:19.896570Z"
    }
   },
   "source": [
    "# Marginals for observations\n",
    "pr_pot = IndicatorObsPRPOT(data=pr_pot_backend, period=ref_period)\n",
    "wl_cond = IndicatorObsWLCOND(data=wl_cond_backend, period=ref_period)\n",
    "\n",
    "# Marginals for simulations\n",
    "pr_sim = IndicatorSimPRPOT(obs=pr_pot, data=pr_sim_backend, period=fut_period)\n",
    "wl_sim = IndicatorSimWLCOND(obs=wl_cond, data=sl_sim_backend, period=fut_period)\n",
    "\n",
    "# Copula for observations\n",
    "jp_obs = IndicatorObsJP(obs_pot=pr_pot, obs_cond=wl_cond, name=\"pr_wlcond\", period=ref_period)\n",
    "\n",
    "# Copula for simulations\n",
    "jp_sim = IndicatorSimJP(sim_pot=pr_sim, sim_cond=wl_sim, obs_cop=jp_obs, period=fut_period)\n",
    "\n",
    "# Example joint exceedance assessment for pr_wlcond\n",
    "result_obs = round(jp_obs.sf([pr_pot.isf(1/pr_rp).item(), wl_cond.isf(1/wl_rp).item()]).item(),2)\n",
    "result_sim = round(jp_sim.sf([pr_pot.isf(1/pr_rp).item(), wl_cond.isf(1/wl_rp).item()]).item(),2)\n",
    "\n",
    "result_text = (f\"\"\"\n",
    "    The probability of precipitation exceeding a 1-in-{pr_rp} event and water levels exceeding a 1-in-{wl_rp} event\n",
    "    during the reference period {ref_period} is {round((1/pr_rp)*(1/wl_rp), 4)} under the assumption of independence\n",
    "    (0.1 x 0.1 = 0.01).\n",
    "\n",
    "    Under the present analysis, the estimated probability of joint exceedance is {result_obs} for the reference period\n",
    "    {ref_period} and {result_sim} for the future period {fut_period}.\n",
    "    \"\"\")\n",
    "print(result_text)"
   ],
   "outputs": [
    {
     "name": "stdout",
     "output_type": "stream",
     "text": [
      "\n",
      "    The probability of precipitation exceeding a 1-in-10 event and water levels exceeding a 1-in-10 event\n",
      "    during the reference period (1995, 2014) is 0.01 under the assumption of independence\n",
      "    (0.1 x 0.1 = 0.01).\n",
      "\n",
      "    Under the present analysis, the estimated probability of joint exceedance is 0.05 for the reference period\n",
      "    (1995, 2014) and 0.12 for the future period (2070, 2100).\n",
      "    \n"
     ]
    }
   ],
   "execution_count": 15
  },
  {
   "cell_type": "code",
   "metadata": {
    "ExecuteTime": {
     "end_time": "2025-04-11T13:36:56.130168Z",
     "start_time": "2025-04-11T13:36:56.104439Z"
    }
   },
   "source": [
    "# The reliability of these results should be assessed based on confidence in event selection, marginal fits, and copula fit.\n",
    "\n",
    "# Use the `dist` method to see which copula was selected and the `bic` method to see its Bayesian Information Criterion (BIC).\n",
    "print(f'The BIC for the {jp_obs.dist} copula is: {round(jp_obs.bic.item(),4)}')"
   ],
   "outputs": [
    {
     "name": "stdout",
     "output_type": "stream",
     "text": [
      "The BIC for the gumbel copula is: -0.0517\n"
     ]
    }
   ],
   "execution_count": 16
  },
  {
   "cell_type": "code",
   "execution_count": null,
   "metadata": {},
   "outputs": [],
   "source": []
  }
 ],
 "metadata": {
  "kernelspec": {
   "display_name": "Python 3 (ipykernel)",
   "language": "python",
   "name": "python3"
  },
  "language_info": {
   "codemirror_mode": {
    "name": "ipython",
    "version": 3
   },
   "file_extension": ".py",
   "mimetype": "text/x-python",
   "name": "python",
   "nbconvert_exporter": "python",
   "pygments_lexer": "ipython3",
   "version": "3.11.9"
  }
 },
 "nbformat": 4,
 "nbformat_minor": 4
}
