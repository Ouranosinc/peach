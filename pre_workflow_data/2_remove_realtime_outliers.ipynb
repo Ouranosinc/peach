{
 "cells": [
  {
   "cell_type": "markdown",
   "metadata": {},
   "source": [
    "TODO\n",
    "* May want to add astep for checking and, if needed, pre-processing of the real-time data before merging with the historical data.\n",
    "* This might include: checking outliers, detecting shifts, taking into consideration the 'reviewed' and 'qcFlag' columns in the real-time data, etc.\n",
    "* It may be helpful to contact DFO to obtain documentation on their official QA steps/precesses for the real-time data."
   ]
  }
 ],
 "metadata": {
  "language_info": {
   "name": "python"
  }
 },
 "nbformat": 4,
 "nbformat_minor": 2
}
