{
 "cells": [
  {
   "cell_type": "markdown",
   "metadata": {},
   "source": [
    "## Preprocess SL simulations\n",
    "\n",
    "Function of script\n",
    "* Extract sl simulations for point locations & reformat.\n",
    "\n",
    "Context in workflow\n",
    "* Needs an updated station list (metadata.csv with sl_mm_per_yr) but otherwise not dependent on the water level data preparation steps."
   ]
  },
  {
   "cell_type": "code",
   "execution_count": null,
   "metadata": {},
   "outputs": [],
   "source": [
    "import os\n",
    "import pandas as pd\n",
    "import xarray as xr\n",
    "from pathlib import Path\n",
    "\n",
    "scens = ['ssp126', 'ssp245', 'ssp370', 'ssp585']\n",
    "\n",
    "DATA = Path(\"data\")\n",
    "INPUTS = DATA / \"inputs\"\n",
    "OUTPUTS = DATA / \"outputs\"\n",
    "\n",
    "stnlist_csv_edit = OUTPUTS / \"metadata.csv\"\n",
    "input_dir = INPUTS / \"sl\"\n",
    "output_dir = OUTPUTS / \"sl_proc\"\n",
    "\n",
    "if not os.path.exists(output_dir):\n",
    "    os.makedirs(output_dir)\n",
    "    \n",
    "stnlist = pd.read_csv(stnlist_csv_edit, encoding='latin1')\n",
    "\n",
    "for stn_num in stnlist['stn_num'].values:\n",
    "    print(stn_num)\n",
    "\n",
    "    sl_mm_per_yr = stnlist[stnlist['stn_num'] == stn_num]['sl_mm_per_yr'].values[0]\n",
    "    lat = stnlist[stnlist['stn_num'] == stn_num]['lat'].values[0]\n",
    "    lon = stnlist[stnlist['stn_num'] == stn_num]['lon'].values[0]\n",
    "    \n",
    "    out_file = os.path.join(output_dir, f'{stn_num:05d}_sl.nc')\n",
    "    \n",
    "    scen_list = []\n",
    "    for scen  in scens:\n",
    "        ncfile_in = os.path.join(input_dir, f'AR6withGeodeticVertical_medium_{scen}.nc')\n",
    "        all_sl = xr.open_dataset(ncfile_in)\n",
    "        sl_this_station = all_sl.sel(lat=lat, lon=lon, method='nearest')\n",
    "        scen_list.append(sl_this_station)\n",
    "    all_scens = xr.concat(scen_list, dim = 'SSP')\n",
    "\n",
    "    sl = all_scens.rename({\"Cumulative_Probability\": \"quantile\", \"SSP\":\"experiment_id\", \"Sea_Levels\" : \"sl_delta\"})\n",
    "    sl.sl_delta.attrs['sl_mm_yr'] = sl_mm_per_yr\n",
    "    sl.sl_delta.attrs['ref_period'] = [1995, 2014]\n",
    "    sl.sl_delta.attrs.update(description=sl.attrs.get('description', ''))\n",
    "    ssps = sl.experiment_id.str.split(dim=\"match\", sep=\"_\").isel(match=1)\n",
    "    sl = sl.assign_coords(experiment_id=ssps)\n",
    "    sl = sl.drop_vars('spatial_ref')\n",
    "\n",
    "    sl.to_netcdf(out_file)"
   ]
  }
 ],
 "metadata": {
  "kernelspec": {
   "display_name": "Python 3 (ipykernel)",
   "language": "python",
   "name": "python3"
  },
  "language_info": {
   "codemirror_mode": {
    "name": "ipython",
    "version": 3
   },
   "file_extension": ".py",
   "mimetype": "text/x-python",
   "name": "python",
   "nbconvert_exporter": "python",
   "pygments_lexer": "ipython3",
   "version": "3.11.9"
  }
 },
 "nbformat": 4,
 "nbformat_minor": 4
}
