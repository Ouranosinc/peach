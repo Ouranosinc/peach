{
 "cells": [
  {
   "cell_type": "markdown",
   "metadata": {},
   "source": [
    "## Calculate pot\n",
    "\n",
    "Function of script:\n",
    "* Open prepared water level timeseries from last step\n",
    "* Apply stn_thresh from metadata.csv to calculate peaks-over-threshold\n",
    "* Format and save as netcdf\n",
    "\n",
    "Context in workflow:\n",
    "* Must be run after water level timeseries preparation"
   ]
  },
  {
   "cell_type": "code",
   "execution_count": null,
   "metadata": {},
   "outputs": [],
   "source": [
    "import os\n",
    "\n",
    "import pandas as pd\n",
    "from pyextremes import get_extremes\n",
    "import xarray as xr\n",
    "from pathlib import Path\n",
    "%matplotlib inline\n",
    "\n",
    "base_start = 1995 \n",
    "base_end = 2014\n",
    "missing_value = 999.999\n",
    "dec = 3\n",
    "max_missing = 0.3\n",
    "min_hrs_per_day = 12\n",
    "decluster = 25 # hours\n",
    "\n",
    "DATA = Path(\"data\")\n",
    "OUTPUTS = DATA / \"outputs\"\n",
    "\n",
    "stnlist_csv_edit = OUTPUTS / \"metadata.csv\"\n",
    "proc_dir = OUTPUTS / \"wl_proc\"\n",
    "\n",
    "stnlist = pd.read_csv(stnlist_csv_edit, encoding='latin1')"
   ]
  },
  {
   "cell_type": "code",
   "execution_count": null,
   "metadata": {},
   "outputs": [],
   "source": [
    "for i, row in stnlist.iterrows():\n",
    "    stn_num = str(row['stn_num']).zfill(5)\n",
    "    stn_name = row['stn_name']\n",
    "    stn_thresh = row['stn_thresh']\n",
    "    sl_mm_per_yr = row['sl_mm_per_yr']\n",
    "    crop_calendar_nyrs = row['calendar_nyrs']\n",
    "    wl_path = os.path.join(proc_dir, f\"{stn_num}_wl.nc\") \n",
    "    wl_pot_path = os.path.join(proc_dir, f\"{stn_num}_wl_pot.nc\") \n",
    "    \n",
    "    print(stn_num, stn_name)\n",
    "    \n",
    "    # Read prepared water level timeseries\n",
    "    wl_path = os.path.join(proc_dir, f\"{stn_num}_wl.nc\") \n",
    "    wl = xr.open_dataarray(wl_path).dropna(dim = 'time')\n",
    "\n",
    "    # Get  POT\n",
    "    alldata_POT = get_extremes(ts=wl.to_series(), method=\"POT\", threshold=stn_thresh, r=f'{decluster}h')\n",
    "\n",
    "    # Format & save netcdf file\n",
    "    pot1 = alldata_POT.reset_index()\n",
    "    pot1.columns = ['time', 'wl_pot']\n",
    "    wl_pot= xr.DataArray(pot1['wl_pot'], dims=['time'], coords={'time': pot1['time']})\n",
    "    \n",
    "    attrs = {\n",
    "        \"wl_stn_name\": stn_name,\n",
    "        \"wl_stn_id\": stn_num,\n",
    "        \"stn_thresh\": stn_thresh,\n",
    "        \"units\": \"m\",\n",
    "        \"standard_name\": \"sea_surface_height_above_geopotential_datum\",\n",
    "        \"geopotential_datum_name\": \"Canadian Geodetic Vertical Datum of 2013 (CGVD2013)\",\n",
    "        \"sl_mm_yr\": sl_mm_per_yr,\n",
    "        \"ref_period\": [base_start, base_end],\n",
    "        \"label\": \"Water Level Peaks Over Threshold (POT)\",\n",
    "        \"peaks_per_yr\": round(len(wl_pot.time) / crop_calendar_nyrs, 2),\n",
    "    }\n",
    "    \n",
    "    with xr.set_options(keep_attrs=True):\n",
    "        wl_pot.attrs.update(attrs)\n",
    "    wl_pot.to_netcdf(wl_pot_path)\n",
    "        \n",
    "stnlist.to_csv(stnlist_csv_edit, index=False, encoding='latin1')"
   ]
  }
 ],
 "metadata": {
  "kernelspec": {
   "display_name": "Python 3 (ipykernel)",
   "language": "python",
   "name": "python3"
  },
  "language_info": {
   "codemirror_mode": {
    "name": "ipython",
    "version": 3
   },
   "file_extension": ".py",
   "mimetype": "text/x-python",
   "name": "python",
   "nbconvert_exporter": "python",
   "pygments_lexer": "ipython3",
   "version": "3.11.9"
  }
 },
 "nbformat": 4,
 "nbformat_minor": 4
}
